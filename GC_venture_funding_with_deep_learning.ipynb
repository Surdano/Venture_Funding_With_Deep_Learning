{
 "cells": [
  {
   "cell_type": "markdown",
   "metadata": {
    "id": "JmEcaJzVURr_"
   },
   "source": [
    "# Venture Funding with Deep Learning"
   ]
  },
  {
   "cell_type": "code",
   "execution_count": null,
   "metadata": {
    "id": "6XiL4BeyURsD"
   },
   "outputs": [],
   "source": [
    "# Imports\n",
    "import pandas as pd\n",
    "from pathlib import Path\n",
    "import tensorflow as tf\n",
    "from tensorflow.keras.layers import Dense\n",
    "from tensorflow.keras.models import Sequential\n",
    "from sklearn.model_selection import train_test_split\n",
    "from sklearn.preprocessing import StandardScaler,OneHotEncoder"
   ]
  },
  {
   "cell_type": "markdown",
   "metadata": {
    "id": "JzvfMq--URsD"
   },
   "source": [
    "---\n",
    "\n",
    "## Prepare the data to be used on a neural network model"
   ]
  },
  {
   "cell_type": "code",
   "execution_count": null,
   "metadata": {},
   "outputs": [],
   "source": [
    "# Uploaded applicants_data.csv to Colab\n",
    "from google.colab import files\n",
    "\n",
    "csv_file = files.upload()"
   ]
  },
  {
   "cell_type": "code",
   "execution_count": null,
   "metadata": {
    "colab": {
     "base_uri": "https://localhost:8080/",
     "height": 496
    },
    "id": "gSTFDSzYURsE",
    "outputId": "f0d546f7-aff1-4c64-cbdd-31959e0c5835"
   },
   "outputs": [],
   "source": [
    "# Read the applicants_data.csv file from the Resources folder into a Pandas DataFrame\n",
    "applicant_data_df = pd.read_csv('applicants_data.csv')\n",
    "\n",
    "# Review the DataFrame\n",
    "applicant_data_df.head()\n"
   ]
  },
  {
   "cell_type": "code",
   "execution_count": null,
   "metadata": {
    "colab": {
     "base_uri": "https://localhost:8080/"
    },
    "id": "C-WB0yc4URsE",
    "outputId": "bfc4bca3-a884-42fa-bd7c-d431757cfdc7"
   },
   "outputs": [],
   "source": [
    "# Review the data types associated with the columns\n",
    "applicant_data_df.dtypes\n"
   ]
  },
  {
   "cell_type": "code",
   "execution_count": null,
   "metadata": {
    "colab": {
     "base_uri": "https://localhost:8080/",
     "height": 206
    },
    "id": "dj7yoYaAURsE",
    "outputId": "1dd003fa-a95c-4209-8367-ad53eb16befe"
   },
   "outputs": [],
   "source": [
    "# Dropped the 'EIN' and 'NAME' columns from the DataFrame\n",
    "applicant_data_df = applicant_data_df.drop(columns=['EIN', 'NAME'])\n",
    "\n",
    "# Review the DataFrame\n",
    "applicant_data_df.head()\n"
   ]
  },
  {
   "cell_type": "code",
   "execution_count": null,
   "metadata": {
    "colab": {
     "base_uri": "https://localhost:8080/"
    },
    "id": "aHv_okM7URsF",
    "outputId": "4f6c99f1-f550-4f7c-c9c9-9a347ab59dab"
   },
   "outputs": [],
   "source": [
    "# Created a list of categorical variables \n",
    "categorical_variables = list(applicant_data_df.dtypes[applicant_data_df.dtypes == \"object\"].index)\n",
    "\n",
    "# Display the categorical variables list\n",
    "categorical_variables\n"
   ]
  },
  {
   "cell_type": "code",
   "execution_count": null,
   "metadata": {
    "id": "IizC83_xURsF"
   },
   "outputs": [],
   "source": [
    "# Created a OneHotEncoder instance\n",
    "enc = OneHotEncoder(sparse=False)\n"
   ]
  },
  {
   "cell_type": "code",
   "execution_count": null,
   "metadata": {
    "id": "fLUlCo48URsF"
   },
   "outputs": [],
   "source": [
    "# Encoded the categorcal variables using OneHotEncoder\n",
    "encoded_data = enc.fit_transform(applicant_data_df[categorical_variables])\n"
   ]
  },
  {
   "cell_type": "code",
   "execution_count": null,
   "metadata": {
    "colab": {
     "base_uri": "https://localhost:8080/",
     "height": 352
    },
    "id": "Bj-Hc08qURsF",
    "outputId": "e9e4e63e-9ba9-437e-e09c-c216ab8586b6"
   },
   "outputs": [],
   "source": [
    "# Created a DataFrame with the encoded variables\n",
    "encoded_df = pd.DataFrame(encoded_data, columns = enc.get_feature_names(categorical_variables))\n",
    "\n",
    "# Review the DataFrame\n",
    "encoded_df.head()\n"
   ]
  },
  {
   "cell_type": "code",
   "execution_count": null,
   "metadata": {
    "colab": {
     "base_uri": "https://localhost:8080/",
     "height": 206
    },
    "id": "3iZ8tnNpwF2O",
    "outputId": "e47e8bde-f3c9-477f-b8d4-e76750800fa1"
   },
   "outputs": [],
   "source": [
    "# Created a DataFrame with the columnns containing numerical variables from the original dataset\n",
    "numerical_variables_df = applicant_data_df.drop(columns = categorical_variables)\n",
    "\n",
    "# Review the DataFrame\n",
    "numerical_variables_df.head()"
   ]
  },
  {
   "cell_type": "code",
   "execution_count": null,
   "metadata": {
    "colab": {
     "base_uri": "https://localhost:8080/",
     "height": 317
    },
    "id": "r43_PQpFURsG",
    "outputId": "18c064b2-3192-4374-c8bb-c17cb7b186a9"
   },
   "outputs": [],
   "source": [
    "# Added the numerical variables from the original DataFrame to the one-hot encoding DataFrame\n",
    "encoded_df = pd.concat([numerical_variables_df,encoded_df], axis=1)\n",
    "\n",
    "\n",
    "# Review the Dataframe\n",
    "encoded_df.head()\n"
   ]
  },
  {
   "cell_type": "code",
   "execution_count": null,
   "metadata": {
    "colab": {
     "base_uri": "https://localhost:8080/"
    },
    "id": "XpmWKy35URsG",
    "outputId": "a6b8718a-5c48-444f-f17f-6da267ead573"
   },
   "outputs": [],
   "source": [
    "# Defined the target set y using the IS_SUCCESSFUL column\n",
    "y = encoded_df['IS_SUCCESSFUL']\n",
    "\n",
    "# Display a sample of y\n",
    "y[:5]\n"
   ]
  },
  {
   "cell_type": "code",
   "execution_count": null,
   "metadata": {
    "colab": {
     "base_uri": "https://localhost:8080/",
     "height": 317
    },
    "id": "SzVEfRlaURsG",
    "outputId": "a8a15c7a-4dd7-4e30-858c-88bd77a22202"
   },
   "outputs": [],
   "source": [
    "# Defined features set X by selecting all columns but IS_SUCCESSFUL\n",
    "X = encoded_df.drop(columns=['IS_SUCCESSFUL'])\n",
    "\n",
    "# Review the features DataFrame\n",
    "X.head()\n"
   ]
  },
  {
   "cell_type": "code",
   "execution_count": null,
   "metadata": {
    "id": "M_vGfjV4URsG"
   },
   "outputs": [],
   "source": [
    "# Split the preprocessed data into a training and testing dataset\n",
    "# Assigned the function random_state equal to 1\n",
    "X_train, X_test, y_train, y_test = train_test_split(X, y, random_state=1)\n"
   ]
  },
  {
   "cell_type": "markdown",
   "metadata": {
    "id": "hDcNY8TGURsG"
   },
   "source": [
    "### Step 7: Use scikit-learn's `StandardScaler` to scale the features data."
   ]
  },
  {
   "cell_type": "code",
   "execution_count": null,
   "metadata": {
    "id": "MWOH8vl-URsG"
   },
   "outputs": [],
   "source": [
    "# Created a StandardScaler instance\n",
    "scaler = StandardScaler()\n",
    "\n",
    "# Fit the scaler to the features training dataset\n",
    "X_scaler = scaler.fit(X_train)\n",
    "\n",
    "# Transformed the scaler to the features training/test dataset\n",
    "X_train_scaled = X_scaler.transform(X_train)\n",
    "X_test_scaled = X_scaler.transform(X_test)"
   ]
  },
  {
   "cell_type": "code",
   "execution_count": null,
   "metadata": {
    "colab": {
     "base_uri": "https://localhost:8080/"
    },
    "id": "K1Vgwz04URsH",
    "outputId": "ce2f1482-8a15-416e-d0d6-436fce64666e"
   },
   "outputs": [],
   "source": [
    "# Defined the the number of inputs (features) to the model\n",
    "number_input_features = len(X_train.iloc[0])\n",
    "\n",
    "# Review the number of features\n",
    "number_input_features\n"
   ]
  },
  {
   "cell_type": "code",
   "execution_count": null,
   "metadata": {
    "id": "0mcgkl8SURsH"
   },
   "outputs": [],
   "source": [
    "# Defined the number of neurons in the output layer\n",
    "number_output_neurons = 1"
   ]
  },
  {
   "cell_type": "code",
   "execution_count": null,
   "metadata": {
    "colab": {
     "base_uri": "https://localhost:8080/"
    },
    "id": "i0Q3iY3wURsH",
    "outputId": "6d889759-f5f6-45cd-a711-1245c0a5bb76"
   },
   "outputs": [],
   "source": [
    "# Defined the number of hidden nodes for the first hidden layer\n",
    "hidden_nodes_layer1 = (number_input_features + number_output_neurons) // 2 \n",
    "\n",
    "# Review the number hidden nodes in the first layer\n",
    "hidden_nodes_layer1\n"
   ]
  },
  {
   "cell_type": "code",
   "execution_count": null,
   "metadata": {
    "colab": {
     "base_uri": "https://localhost:8080/"
    },
    "id": "Ux_lAsrvURsH",
    "outputId": "61f6fe7e-3ab5-4eb5-844b-a95b0fab390e"
   },
   "outputs": [],
   "source": [
    "# Defined the number of hidden nodes for the second hidden layer\n",
    "hidden_nodes_layer2 =  (hidden_nodes_layer1 + number_output_neurons) // 2\n",
    "\n",
    "# Review the number hidden nodes in the second layer\n",
    "hidden_nodes_layer2\n"
   ]
  },
  {
   "cell_type": "code",
   "execution_count": null,
   "metadata": {
    "id": "1kq9QWhLURsH"
   },
   "outputs": [],
   "source": [
    "# Created the Sequential model instance\n",
    "nn = Sequential()\n"
   ]
  },
  {
   "cell_type": "code",
   "execution_count": null,
   "metadata": {
    "id": "NcVrWCD_URsI"
   },
   "outputs": [],
   "source": [
    "# Added the first hidden layer\n",
    "nn.add(Dense(units=hidden_nodes_layer1, input_dim=number_input_features, activation=\"relu\"))\n"
   ]
  },
  {
   "cell_type": "code",
   "execution_count": null,
   "metadata": {
    "id": "Ugxr6lisURsI"
   },
   "outputs": [],
   "source": [
    "# Added the second hidden layer\n",
    "nn.add(Dense(units=hidden_nodes_layer2, activation=\"relu\"))\n"
   ]
  },
  {
   "cell_type": "code",
   "execution_count": null,
   "metadata": {
    "id": "QxcGEyNoURsI"
   },
   "outputs": [],
   "source": [
    "# Added the output layer to the model specifying the number of output neurons and activation function\n",
    "nn.add(Dense(units=number_output_neurons, activation=\"sigmoid\"))\n"
   ]
  },
  {
   "cell_type": "code",
   "execution_count": null,
   "metadata": {
    "colab": {
     "base_uri": "https://localhost:8080/"
    },
    "id": "1L2ZVcXgURsI",
    "outputId": "e289ec07-4d8e-4686-f897-dec8bb7177cf"
   },
   "outputs": [],
   "source": [
    "# Display the Sequential model summary\n",
    "nn.summary()\n"
   ]
  },
  {
   "cell_type": "code",
   "execution_count": null,
   "metadata": {
    "id": "PR8r_cL1URsI"
   },
   "outputs": [],
   "source": [
    "# Compiled the Sequential model\n",
    "nn.compile(loss=\"binary_crossentropy\", optimizer=\"adam\", metrics=[\"accuracy\"])\n"
   ]
  },
  {
   "cell_type": "code",
   "execution_count": null,
   "metadata": {
    "colab": {
     "base_uri": "https://localhost:8080/"
    },
    "id": "5_z-FPHJURsI",
    "outputId": "3cbebca6-76b3-4af0-adf5-813c5e341d67"
   },
   "outputs": [],
   "source": [
    "# Fit the model using 50 epochs and the training data\n",
    "fit_model = nn.fit(X_train_scaled, y_train, epochs=50)\n"
   ]
  },
  {
   "cell_type": "code",
   "execution_count": null,
   "metadata": {
    "colab": {
     "base_uri": "https://localhost:8080/"
    },
    "id": "rWaHGdGrURsI",
    "outputId": "7108bb79-b7f5-4220-c8d6-0bcdd9c93547"
   },
   "outputs": [],
   "source": [
    "# Evaluated the model loss and accuracy metrics using the evaluate method and the test data\n",
    "model_loss, model_accuracy = nn.evaluate(X_test_scaled,y_test,verbose=2)\n",
    "\n",
    "# Display the model loss and accuracy results\n",
    "print(f\"Loss: {model_loss}, Accuracy: {model_accuracy}\")"
   ]
  },
  {
   "cell_type": "code",
   "execution_count": null,
   "metadata": {
    "id": "iOuA28RQURsJ"
   },
   "outputs": [],
   "source": [
    "# Set the model's file path\n",
    "file_path = Path(\"../Resources/AlphabetSoup.h5\")\n",
    "\n",
    "# Exported model to a HDF5 file\n",
    "nn.save(file_path)"
   ]
  },
  {
   "cell_type": "markdown",
   "metadata": {
    "id": "xlN5E4WfURsJ",
    "tags": []
   },
   "source": [
    "---\n",
    "\n",
    "## Optimize the neural network model\n"
   ]
  },
  {
   "cell_type": "markdown",
   "metadata": {
    "id": "slhZ-iS1URsJ"
   },
   "source": [
    "### Alternative Model 1"
   ]
  },
  {
   "cell_type": "code",
   "execution_count": null,
   "metadata": {
    "colab": {
     "base_uri": "https://localhost:8080/"
    },
    "id": "zqbrMOgCURsJ",
    "outputId": "29e8cfd0-8e70-4448-db29-5d9ce9cfd644"
   },
   "outputs": [],
   "source": [
    "# Defined the the number of inputs (features) to the model\n",
    "number_input_features_A1 = len(X_train.iloc[0])\n",
    "\n",
    "# Review the number of features\n",
    "number_input_features_A1"
   ]
  },
  {
   "cell_type": "code",
   "execution_count": null,
   "metadata": {
    "id": "U3rrh76sURsJ"
   },
   "outputs": [],
   "source": [
    "# Defined the number of neurons in the output layer\n",
    "number_output_neurons_A1 = 1"
   ]
  },
  {
   "cell_type": "code",
   "execution_count": null,
   "metadata": {
    "colab": {
     "base_uri": "https://localhost:8080/"
    },
    "id": "ezaNTAwf-E91",
    "outputId": "9b69e5d3-dcca-4d0d-88f7-188eb784e422"
   },
   "outputs": [],
   "source": [
    "# Defined the number of hidden nodes for the first hidden layer\n",
    "hidden_nodes_layer1_A1 = (number_input_features_A1 + number_output_neurons_A1) // 2\n",
    "\n",
    "# Review the number of hidden nodes in the first layer\n",
    "hidden_nodes_layer1_A1"
   ]
  },
  {
   "cell_type": "code",
   "execution_count": null,
   "metadata": {
    "colab": {
     "base_uri": "https://localhost:8080/"
    },
    "id": "V0gq_8EmZ2O4",
    "outputId": "e5f52b7e-b687-4698-bfd8-1f56dd42e49b"
   },
   "outputs": [],
   "source": [
    "# Defined the number of hidden nodes for the second hidden layer\n",
    "hidden_nodes_layer2_A1 = (hidden_nodes_layer1_A1 + number_output_neurons_A1) // 2\n",
    "\n",
    "# Review the number of hidden nodes in the first layer\n",
    "hidden_nodes_layer2_A1"
   ]
  },
  {
   "cell_type": "code",
   "execution_count": null,
   "metadata": {
    "colab": {
     "base_uri": "https://localhost:8080/"
    },
    "id": "0QBhrC4yaWXM",
    "outputId": "fd9b1ec6-a418-4cfa-efaa-cc0eb65bcd35"
   },
   "outputs": [],
   "source": [
    "# Defined the number of hidden nodes for the third hidden layer\n",
    "hidden_nodes_layer3_A1 =  (hidden_nodes_layer2_A1 + number_output_neurons_A1) // 2\n",
    "\n",
    "# Review the number hidden nodes in the third layer\n",
    "hidden_nodes_layer3_A1"
   ]
  },
  {
   "cell_type": "code",
   "execution_count": null,
   "metadata": {
    "id": "efNsx7TfURsK"
   },
   "outputs": [],
   "source": [
    "# Created the Sequential model instance\n",
    "nn_A1 = Sequential()"
   ]
  },
  {
   "cell_type": "code",
   "execution_count": null,
   "metadata": {
    "colab": {
     "base_uri": "https://localhost:8080/"
    },
    "id": "0uMhdXQWURsK",
    "outputId": "2642ebc2-0c51-458e-ecee-406c8d48173d"
   },
   "outputs": [],
   "source": [
    "# Added first hidden layer\n",
    "nn_A1.add(Dense(units = hidden_nodes_layer1_A1, input_dim = number_input_features_A1, activation = 'relu'))\n",
    "\n",
    "# Added second hidden layer\n",
    "nn_A1.add(Dense(units = hidden_nodes_layer2_A1, activation = 'relu'))\n",
    "\n",
    "# Added third hidden layer\n",
    "nn_A1.add(Dense(units = hidden_nodes_layer3_A1, activation = 'relu'))\n",
    "\n",
    "# Added the output layer to the model specifying the number of output neurons and activation function\n",
    "nn_A1.add(Dense(units = number_output_neurons_A1, activation = 'sigmoid'))\n",
    "\n",
    "# Check the structure of the model\n",
    "nn_A1.summary()"
   ]
  },
  {
   "cell_type": "code",
   "execution_count": null,
   "metadata": {
    "id": "2gDpRhG7URsK"
   },
   "outputs": [],
   "source": [
    "# Compiled the Sequential model\n",
    "nn_A1.compile(loss = 'binary_crossentropy', optimizer = 'adam', metrics = ['accuracy'])\n"
   ]
  },
  {
   "cell_type": "code",
   "execution_count": null,
   "metadata": {
    "colab": {
     "base_uri": "https://localhost:8080/"
    },
    "id": "zE4UD4NyURsK",
    "outputId": "d642c872-bf6a-4323-bb2a-1f0495cb7b99"
   },
   "outputs": [],
   "source": [
    "# Fit the model using 50 epochs and the training data\n",
    "fit_model_A1 = nn_A1.fit(X_train_scaled, y_train, epochs = 50)\n"
   ]
  },
  {
   "cell_type": "code",
   "execution_count": null,
   "metadata": {
    "colab": {
     "base_uri": "https://localhost:8080/"
    },
    "id": "woFfQPy4axZa",
    "outputId": "e89e9527-9875-4389-df5b-13b96174b871"
   },
   "outputs": [],
   "source": [
    "# Evaluated the model loss and accuracy metrics using the evaluate method and the test data\n",
    "model_loss_A1, model_accuracy_A1 = nn_A1.evaluate(X_test_scaled, y_test, verbose = 2)\n",
    "\n",
    "# Display the model loss and accuracy results\n",
    "print(f\"Loss: {model_loss_A1}, Accuracy: {model_accuracy_A1}\")"
   ]
  },
  {
   "cell_type": "markdown",
   "metadata": {
    "id": "_xaB1-X0cApK"
   },
   "source": [
    "#### Alternative Model 2"
   ]
  },
  {
   "cell_type": "code",
   "execution_count": null,
   "metadata": {
    "id": "JaDl8emacAeB"
   },
   "outputs": [],
   "source": [
    "# Dropped the Status and Special Considerations columns from the training and testing data\n",
    "X_train_A2 = X_train.drop(columns = ['STATUS', 'SPECIAL_CONSIDERATIONS_N', 'SPECIAL_CONSIDERATIONS_Y'])\n",
    "X_test_A2 = X_test.drop(columns = ['STATUS','SPECIAL_CONSIDERATIONS_N', 'SPECIAL_CONSIDERATIONS_Y'])\n"
   ]
  },
  {
   "cell_type": "code",
   "execution_count": null,
   "metadata": {
    "id": "94RoLzU1cAFK"
   },
   "outputs": [],
   "source": [
    "# Scaled the new training and testing data using StandardScaler\n",
    "X_scaler_A2 = StandardScaler()\n",
    "X_scaler_A2.fit(X_train_A2)\n",
    "X_train_scaled_A2 = X_scaler_A2.transform(X_train_A2)\n",
    "X_test_scaled_A2 = X_scaler_A2.transform(X_test_A2)"
   ]
  },
  {
   "cell_type": "code",
   "execution_count": null,
   "metadata": {
    "colab": {
     "base_uri": "https://localhost:8080/"
    },
    "id": "2TpraOmib54y",
    "outputId": "05475645-59f6-4f64-fb3b-24b48bc42ae0"
   },
   "outputs": [],
   "source": [
    "# Defined the the number of inputs (features) to the model\n",
    "number_input_features_A2 = len(X_train_A2.iloc[0])\n",
    "\n",
    "# Review the number of features\n",
    "number_input_features_A2"
   ]
  },
  {
   "cell_type": "code",
   "execution_count": null,
   "metadata": {
    "id": "kwevDUNeb6U2"
   },
   "outputs": [],
   "source": [
    "# Defined the number of neurons in the output layer\n",
    "number_output_neurons_A2 = 1"
   ]
  },
  {
   "cell_type": "code",
   "execution_count": null,
   "metadata": {
    "colab": {
     "base_uri": "https://localhost:8080/"
    },
    "id": "yeKyqRvrb6nE",
    "outputId": "f51723b2-5d1e-4503-8e0d-060c89fc216c"
   },
   "outputs": [],
   "source": [
    "# Defined the number of hidden nodes for the first hidden layer\n",
    "hidden_nodes_layer1_A2 = int(number_input_features_A2 * 0.50)\n",
    "\n",
    "# Review the number hidden nodes in the first layer\n",
    "hidden_nodes_layer1_A2"
   ]
  },
  {
   "cell_type": "code",
   "execution_count": null,
   "metadata": {
    "colab": {
     "base_uri": "https://localhost:8080/"
    },
    "id": "ZA7-XcAhb60m",
    "outputId": "bc3b896d-079c-42f6-814f-a9d34bc7b217"
   },
   "outputs": [],
   "source": [
    "# Defined the number of hidden nodes for the second hidden layer\n",
    "hidden_nodes_layer2_A2 =  int(number_input_features_A2 * 0.30)\n",
    "\n",
    "# Review the number hidden nodes in the second layer\n",
    "hidden_nodes_layer2_A2"
   ]
  },
  {
   "cell_type": "code",
   "execution_count": null,
   "metadata": {
    "colab": {
     "base_uri": "https://localhost:8080/"
    },
    "id": "B141FqAlb7IN",
    "outputId": "59ad5423-433e-4424-a3ad-5c18a71c6e7d"
   },
   "outputs": [],
   "source": [
    "# Defined the number of hidden nodes for the third hidden layer\n",
    "hidden_nodes_layer3_A2 =  int(number_input_features_A2 * 0.20)\n",
    "\n",
    "# Review the number hidden nodes in the third layer\n",
    "hidden_nodes_layer3_A2"
   ]
  },
  {
   "cell_type": "code",
   "execution_count": null,
   "metadata": {
    "id": "5ZdEW7CNb7Vx"
   },
   "outputs": [],
   "source": [
    "# Created the Sequential model instance\n",
    "nn_A2 = Sequential()"
   ]
  },
  {
   "cell_type": "code",
   "execution_count": null,
   "metadata": {
    "colab": {
     "base_uri": "https://localhost:8080/"
    },
    "id": "QcybrQBVb8iD",
    "outputId": "05f485f2-7ace-41f2-957e-8e379a60bbbf"
   },
   "outputs": [],
   "source": [
    "# Added first hidden layer\n",
    "nn_A2.add(Dense(units = hidden_nodes_layer1_A2, input_dim = number_input_features_A2, activation = 'relu'))\n",
    "\n",
    "# Added second hidden layer\n",
    "nn_A2.add(Dense(units = hidden_nodes_layer2_A2, activation = 'relu'))\n",
    "\n",
    "# Added third hidden layer\n",
    "nn_A2.add(Dense(units = hidden_nodes_layer3_A2, activation = 'relu'))\n",
    "\n",
    "# Added the output layer to the model specifying the number of output neurons and activation function\n",
    "nn_A2.add(Dense(units = number_output_neurons_A2, activation = 'sigmoid'))\n",
    "\n",
    "# Check the structure of the model\n",
    "nn_A2.summary()"
   ]
  },
  {
   "cell_type": "code",
   "execution_count": null,
   "metadata": {
    "id": "F6yvdw9ab86t"
   },
   "outputs": [],
   "source": [
    "# Compiled the Sequential model\n",
    "nn_A2.compile(loss = 'binary_crossentropy', optimizer = 'adam', metrics = ['accuracy'])"
   ]
  },
  {
   "cell_type": "code",
   "execution_count": null,
   "metadata": {
    "colab": {
     "base_uri": "https://localhost:8080/"
    },
    "id": "bNdxAyacb-O_",
    "outputId": "3c827c6d-12a7-492a-c376-7ca284e7115d"
   },
   "outputs": [],
   "source": [
    "# Fit the model using 50 epochs and the training data\n",
    "fit_model_A2 = nn_A2.fit(X_train_scaled_A2, y_train, epochs = 50)"
   ]
  },
  {
   "cell_type": "code",
   "execution_count": null,
   "metadata": {
    "colab": {
     "base_uri": "https://localhost:8080/"
    },
    "id": "mFkuNXxDciH5",
    "outputId": "3b68b65c-4e86-40b2-a265-db2568520d0e"
   },
   "outputs": [],
   "source": [
    "# Evaluated the model loss and accuracy metrics using the evaluate method and the test data\n",
    "model_loss_A2, model_accuracy_A2 = nn_A2.evaluate(X_test_scaled_A2, y_test, verbose = 2)\n",
    "\n",
    "# Display the model loss and accuracy results\n",
    "print(f\"Loss: {model_loss_A2}, Accuracy: {model_accuracy_A2}\")"
   ]
  },
  {
   "cell_type": "markdown",
   "metadata": {
    "id": "aMZAmHrlURsK"
   },
   "source": [
    "#### Alternative Model 3"
   ]
  },
  {
   "cell_type": "code",
   "execution_count": null,
   "metadata": {
    "colab": {
     "base_uri": "https://localhost:8080/"
    },
    "id": "Mw0cxkvOURsK",
    "outputId": "427f3982-6f22-45f4-f50e-76c0c71ab9f8"
   },
   "outputs": [],
   "source": [
    "# Defined the the number of inputs (features) to the model\n",
    "number_input_features_A3 = len(X_train.iloc[0])\n",
    "\n",
    "# Review the number of features\n",
    "number_input_features_A3"
   ]
  },
  {
   "cell_type": "code",
   "execution_count": null,
   "metadata": {
    "id": "qnLSrAKJURsK"
   },
   "outputs": [],
   "source": [
    "# Defined the number of neurons in the output layer\n",
    "number_output_neurons_A3 = 1"
   ]
  },
  {
   "cell_type": "code",
   "execution_count": null,
   "metadata": {
    "colab": {
     "base_uri": "https://localhost:8080/"
    },
    "id": "myK4iGVBURsK",
    "outputId": "b09663ab-0365-4283-bb08-759f159c6cfe"
   },
   "outputs": [],
   "source": [
    "# Defined the number of hidden nodes for the first hidden layer\n",
    "hidden_nodes_layer1_A3 = int(number_input_features_A3 * 0.60)\n",
    "\n",
    "# Review the number of hidden nodes in the first layer\n",
    "hidden_nodes_layer1_A3"
   ]
  },
  {
   "cell_type": "code",
   "execution_count": null,
   "metadata": {
    "colab": {
     "base_uri": "https://localhost:8080/"
    },
    "id": "v1_MEIIHbQrL",
    "outputId": "2697b452-c6cf-4561-a1ff-eabf1c4fc1a3"
   },
   "outputs": [],
   "source": [
    "# Defined the number of hidden nodes for the second hidden layer\n",
    "hidden_nodes_layer2_A3 =  int(number_input_features_A3 * 0.20)\n",
    "\n",
    "# Review the number hidden nodes in the second layer\n",
    "hidden_nodes_layer2_A3"
   ]
  },
  {
   "cell_type": "code",
   "execution_count": null,
   "metadata": {
    "id": "lB6J98OSURsL"
   },
   "outputs": [],
   "source": [
    "# Created the Sequential model instance\n",
    "nn_A3 = Sequential()"
   ]
  },
  {
   "cell_type": "code",
   "execution_count": null,
   "metadata": {
    "colab": {
     "base_uri": "https://localhost:8080/"
    },
    "id": "EX5HLuh9URsL",
    "outputId": "0f194d28-a835-49d4-e525-2ae41ee0cd1c"
   },
   "outputs": [],
   "source": [
    "# Added first hidden layer\n",
    "nn_A3.add(Dense(units = hidden_nodes_layer1_A3, input_dim = number_input_features_A3, activation = 'relu'))\n",
    "\n",
    "# Added second hidden layer\n",
    "nn_A3.add(Dense(units = hidden_nodes_layer2_A3, activation = 'relu'))\n",
    "\n",
    "# Added the output layer to the model specifying the number of output neurons and activation function\n",
    "nn_A3.add(Dense(units = number_output_neurons_A3, activation = 'sigmoid'))\n",
    "\n",
    "# Check the structure of the model\n",
    "nn_A3.summary()"
   ]
  },
  {
   "cell_type": "code",
   "execution_count": null,
   "metadata": {
    "id": "JrI6zrIRURsL"
   },
   "outputs": [],
   "source": [
    "# Compiled the model\n",
    "nn_A3.compile(loss = 'binary_crossentropy', optimizer = 'adam', metrics = ['accuracy'])\n"
   ]
  },
  {
   "cell_type": "code",
   "execution_count": null,
   "metadata": {
    "colab": {
     "base_uri": "https://localhost:8080/"
    },
    "id": "8M3fXVn_URsL",
    "outputId": "7f44e50b-19e9-4b12-efd8-2730b8d79677"
   },
   "outputs": [],
   "source": [
    "# Fit the model\n",
    "fit_model_A3 = nn_A3.fit(X_train_scaled, y_train, epochs = 50)\n"
   ]
  },
  {
   "cell_type": "code",
   "execution_count": null,
   "metadata": {
    "colab": {
     "base_uri": "https://localhost:8080/"
    },
    "id": "3Q2j1xEybcgM",
    "outputId": "3729283a-b95a-4f84-f235-1257d43795e8"
   },
   "outputs": [],
   "source": [
    "# Evaluated the model loss and accuracy metrics using the evaluate method and the test data\n",
    "model_loss_A3, model_accuracy_A3 = nn_A3.evaluate(X_test_scaled, y_test, verbose = 2)\n",
    "\n",
    "# Display the model loss and accuracy results\n",
    "print(f\"Loss: {model_loss_A3}, Accuracy: {model_accuracy_A3}\")"
   ]
  },
  {
   "cell_type": "markdown",
   "metadata": {
    "id": "JkA48Z4hURsL"
   },
   "source": [
    "### Compare the results."
   ]
  },
  {
   "cell_type": "code",
   "execution_count": null,
   "metadata": {
    "colab": {
     "base_uri": "https://localhost:8080/"
    },
    "id": "RXhF6K8SURsL",
    "outputId": "d9bd90e1-7874-4b26-b4b1-91f56ad1cf1d"
   },
   "outputs": [],
   "source": [
    "print(\"Original Model Results\")\n",
    "\n",
    "# Evaluated the model loss and accuracy metrics using the evaluate method and the test data\n",
    "model_loss, model_accuracy = nn.evaluate(X_test_scaled, y_test, verbose = 2)\n",
    "\n",
    "# Display the model loss and accuracy results\n",
    "print(f\"Loss: {model_loss}, Accuracy: {model_accuracy}\")"
   ]
  },
  {
   "cell_type": "code",
   "execution_count": null,
   "metadata": {
    "colab": {
     "base_uri": "https://localhost:8080/"
    },
    "id": "W52oclvkURsL",
    "outputId": "3ab8b791-b034-4b21-fac7-474dcfcba327"
   },
   "outputs": [],
   "source": [
    "print(\"Alternative Model 1 Results\")\n",
    "\n",
    "# Evaluated the model loss and accuracy metrics using the evaluate method and the test data\n",
    "model_loss_A1, model_accuracy_A1 = nn_A1.evaluate(X_test_scaled, y_test, verbose = 2)\n",
    "\n",
    "# Display the model loss and accuracy results\n",
    "print(f\"Loss: {model_loss_A1}, Accuracy: {model_accuracy_A1}\")"
   ]
  },
  {
   "cell_type": "code",
   "execution_count": null,
   "metadata": {
    "colab": {
     "base_uri": "https://localhost:8080/"
    },
    "id": "4yPtU8_nURsL",
    "outputId": "cca7ac3a-3cb4-4b6b-ae1c-ca452e6fa1c2"
   },
   "outputs": [],
   "source": [
    "print(\"Alternative Model 2 Results\")\n",
    "\n",
    "# Evaluated the model loss and accuracy metrics using the evaluate method and the test data\n",
    "model_loss_A2, model_accuracy_A2 = nn_A2.evaluate(X_test_scaled_A2, y_test, verbose = 2)\n",
    "\n",
    "# Display the model loss and accuracy results\n",
    "print(f\"Loss: {model_loss_A2}, Accuracy: {model_accuracy_A2}\")"
   ]
  },
  {
   "cell_type": "code",
   "execution_count": null,
   "metadata": {
    "colab": {
     "base_uri": "https://localhost:8080/"
    },
    "id": "a9R6ZS1Zcx9U",
    "outputId": "e447bc4e-8686-4fe4-ec32-bc7b0228ba78"
   },
   "outputs": [],
   "source": [
    "print(\"Alternative Model 3 Results\")\n",
    "\n",
    "# Evaluated the model loss and accuracy metrics using the evaluate method and the test data\n",
    "model_loss_A3, model_accuracy_A3 = nn_A3.evaluate(X_test_scaled, y_test, verbose = 2)\n",
    "\n",
    "# Display the model loss and accuracy results\n",
    "print(f\"Loss: {model_loss_A3}, Accuracy: {model_accuracy_A3}\")"
   ]
  },
  {
   "cell_type": "markdown",
   "metadata": {
    "id": "eQ3b2y7OURsM"
   },
   "source": [
    "### Step 3: Save each of your alternative models as an HDF5 file.\n"
   ]
  },
  {
   "cell_type": "code",
   "execution_count": null,
   "metadata": {
    "id": "a1tXiNBZURsM"
   },
   "outputs": [],
   "source": [
    "# Set the file path for the first alternative model\n",
    "file_path = \"./Resources/Alternative_model_1.h5\"\n",
    "# Exported model to a HDF5 file\n",
    "nn_A1.save(file_path)"
   ]
  },
  {
   "cell_type": "code",
   "execution_count": null,
   "metadata": {
    "id": "W9KTZW35URsM"
   },
   "outputs": [],
   "source": [
    "# Set the file path for the second alternative model\n",
    "file_path = \"./Resources/Alternative_model_2.h5\"\n",
    "# Exported model to a HDF5 file\n",
    "nn_A2.save(file_path)"
   ]
  },
  {
   "cell_type": "code",
   "execution_count": null,
   "metadata": {
    "id": "IiQ2lyQuURsM"
   },
   "outputs": [],
   "source": [
    "# Set the file path for the third alternative model\n",
    "file_path = \"./Resources/Alternative_model_3.h5\"\n",
    "# Exported model to a HDF5 file\n",
    "nn_A3.save(file_path)"
   ]
  },
  {
   "cell_type": "code",
   "execution_count": null,
   "metadata": {
    "id": "Io76n9vjhZ4L"
   },
   "outputs": [],
   "source": []
  }
 ],
 "metadata": {
  "colab": {
   "collapsed_sections": [
    "0q7pN2XKURsJ"
   ],
   "name": "GC_venture_funding_with_deep_learning.ipynb",
   "provenance": []
  },
  "kernelspec": {
   "display_name": "devv",
   "language": "python",
   "name": "devv"
  },
  "language_info": {
   "codemirror_mode": {
    "name": "ipython",
    "version": 3
   },
   "file_extension": ".py",
   "mimetype": "text/x-python",
   "name": "python",
   "nbconvert_exporter": "python",
   "pygments_lexer": "ipython3",
   "version": "3.7.10"
  }
 },
 "nbformat": 4,
 "nbformat_minor": 4
}
